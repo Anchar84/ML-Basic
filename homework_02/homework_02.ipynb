{
 "cells": [
  {
   "cell_type": "markdown",
   "id": "a2c501e6",
   "metadata": {},
   "source": [
    "# Домашнее задание: Управляющие конструкции"
   ]
  },
  {
   "cell_type": "markdown",
   "id": "3e4cac4a",
   "metadata": {},
   "source": [
    "## Задание 1: Получение однозначного числа\n",
    "\n",
    "Пользователь вводит целое число, программа складывает все цифры числа, с полученным числом — то же самое, и так до тех пор, пока не получится однозначное число.\n",
    "\n",
    "<br>\n",
    "\n",
    "**Примеры:**\n",
    "* `545   -> 5`\n",
    "* `12345 -> 6`"
   ]
  },
  {
   "cell_type": "code",
   "execution_count": 6,
   "id": "344e919f",
   "metadata": {},
   "outputs": [
    {
     "name": "stdout",
     "output_type": "stream",
     "text": [
      "6\n"
     ]
    }
   ],
   "source": [
    "number = int(input())\n",
    "\n",
    "sum = 0\n",
    "\n",
    "while number > 0:\n",
    "    sum += number % 10\n",
    "    number = number // 10\n",
    "    if number == 0 and sum > 10:\n",
    "        number = sum\n",
    "        sum = 0\n",
    "\n",
    "print(sum)"
   ]
  },
  {
   "cell_type": "markdown",
   "id": "45527a4a",
   "metadata": {},
   "source": [
    "## Задание 2: Кинотеатр\n",
    "\n",
    "Дан список списков, каждый вложенный список состоит из 1 и 0, количество вложенных списков — количество рядов. Пользователь вводит, сколько билетов ему требуется. Программа должна найти ряд, где можно приобрести нужное количество билетов (места должны быть рядом). Если таких рядов несколько, то ближайший к экрану (ближайшим считается нулевой ряд). Если таких мест нет, то вывести False.\n",
    "\n",
    "<br>\n",
    "\n",
    "**Примеры:**\n",
    "* `[[0,1,1,0], [1,0,0,0], [0,1,0,0]], 2 -> 1`\n",
    "* `[[0,1,1,0], [1,0,1,0], [1,1,0,1]], 2 -> False`"
   ]
  },
  {
   "cell_type": "code",
   "execution_count": 3,
   "id": "3a29082d",
   "metadata": {},
   "outputs": [
    {
     "name": "stdout",
     "output_type": "stream",
     "text": [
      "False\n"
     ]
    }
   ],
   "source": [
    "import ast\n",
    "\n",
    "inputString = input()\n",
    "\n",
    "if not inputString:\n",
    "    print(\"False\")\n",
    "else:\n",
    "    str_array, strNumber = inputString.replace(\" \", \"\").rsplit(\",\", 1)\n",
    "\n",
    "    arrays = ast.literal_eval(str_array)\n",
    "    number = int(strNumber)\n",
    "\n",
    "    row = 0\n",
    "\n",
    "    i = 0\n",
    "    while i < len(arrays):\n",
    "        counter = 0\n",
    "        for j in arrays[i]:           \n",
    "            if j == 0:\n",
    "               counter += 1\n",
    "            else:  \n",
    "               counter = 0\n",
    "            if counter == number:\n",
    "                row = i + 1\n",
    "                break\n",
    "        \n",
    "        if row > 0:\n",
    "            break\n",
    "        i += 1\n",
    "\n",
    "    print(str(row) if row > 0 else \"False\")\n",
    "\n"
   ]
  },
  {
   "cell_type": "markdown",
   "id": "7b7f098c",
   "metadata": {},
   "source": [
    "## Задание 3: Алгоритм RLE\n",
    "\n",
    "Необходимо написать упрощенную версию алгоритма RLE. \n",
    "Алгоритм RLE объединяет подряд идущие символы в коэффициент и символ.\n",
    "\n",
    "<br>\n",
    "\n",
    "**Примеры:**\n",
    "* `asssdddsssddd -> 1a3s3d3s3d`\n",
    "* `aaabbbbccccc  -> 3a4b5c`\n",
    "* `abcba         -> 1a1b1c1b1a`"
   ]
  },
  {
   "cell_type": "code",
   "execution_count": null,
   "id": "e0d30ec2",
   "metadata": {},
   "outputs": [],
   "source": [
    "# ВАШ КОД ЗДЕСЬ\n",
    "intputString = input()\n",
    "\n",
    "if not intputString:\n",
    "    print(\"False\")\n",
    "else:\n",
    "    bufCh = \"\"\n",
    "    resultString = \"\"\n",
    "    counter = 0\n",
    "\n",
    "    for i in range(len(intputString)):\n",
    "        if bufCh and bufCh != intputString[i]:\n",
    "            resultString += str(counter) + bufCh\n",
    "            bufCh = intputString[i]\n",
    "            counter = 1\n",
    "        elif not bufCh:\n",
    "            bufCh = intputString[i]\n",
    "            counter = 1\n",
    "        else:\n",
    "            counter += 1\n",
    "\n",
    "    resultString += str(counter) + bufCh\n",
    "\n",
    "    print(resultString)"
   ]
  },
  {
   "cell_type": "markdown",
   "id": "f24d5e58",
   "metadata": {},
   "source": [
    "## Задание 4: Шифр Цезаря\n",
    "\n",
    "Реализуйте программу для шифрования текста с помощью шифра Цезаря.  \n",
    "Шифр Цезаря — это метод шифрования, при котором каждая буква в тексте заменяется буквой, стоящей на фиксированное число позиций дальше в алфавите.\n",
    "\n",
    "### Требования\n",
    "1. Программа должна принимать на вход:\n",
    "   - Строку текста для шифрования\n",
    "   - Ключ шифра (число от 0 до 25)\n",
    "\n",
    "2. Правила шифрования:\n",
    "   - Шифруются только латинские буквы (a-z, A-Z)\n",
    "   - Сохраняется регистр букв (заглавные остаются заглавными)\n",
    "   - Пробелы, цифры и знаки препинания остаются без изменений\n",
    "   - Сдвиг циклический (после 'z' идет 'a', после 'Z' идет 'A')\n",
    "\n",
    "### Примеры\n",
    "\n",
    "* `\"Hello World\", 3      -> \"Khoor Zruog\"`\n",
    "* `\"Python is great!\", 5 -> \"Udymts nx lwjfy!\"`\n",
    "* `\"XYZ abc\", 3          -> \"ABC def\"`\n",
    "* `\"Test 123\", 1         -> \"Uftu 123\"`\n",
    "\n",
    "### Алгоритм\n",
    "* Для каждого символа в строке:\n",
    "   - Если это латинская буква, найти её позицию в алфавите\n",
    "   - Добавить к позиции значение ключа\n",
    "   - Если результат больше 25, использовать остаток от деления на 26\n",
    "   - Преобразовать обратно в букву, сохранив регистр\n",
    "   - Если это не буква, оставить символ без изменений\n"
   ]
  },
  {
   "cell_type": "code",
   "execution_count": 11,
   "id": "6a075d20",
   "metadata": {},
   "outputs": [
    {
     "name": "stdout",
     "output_type": "stream",
     "text": [
      "\"Uftu 123\"\n"
     ]
    }
   ],
   "source": [
    "# 97 - a\n",
    "# 122 - z\n",
    "# 65 - A \n",
    "# 90 - Z\n",
    "\n",
    "input_str = input()\n",
    "\n",
    "str_to_encode, str_shift = input_str.rsplit(\",\", 1)\n",
    "shift = int(str_shift)\n",
    "str_encoded = \"\"\n",
    "\n",
    "for ch in str_to_encode:\n",
    "    ch_code = ord(ch)\n",
    "    if ch_code >= 97 and ch_code <=122:\n",
    "        new_code = ch_code + shift\n",
    "        if new_code > 122:\n",
    "            new_code = 97 + new_code - 122\n",
    "        elif new_code > 90 and new_code < 97:\n",
    "            new_code = 122 + new_code - 97\n",
    "    elif ch_code >= 65 and ch_code <= 90:\n",
    "        new_code = ch_code + shift\n",
    "        if new_code > 90:\n",
    "            new_code = 65 + new_code - 90\n",
    "        elif new_code < 65:\n",
    "            new_code = 90 + new_code - 65\n",
    "    else:\n",
    "       new_code = ch_code\n",
    "    \n",
    "    str_encoded += chr(new_code)\n",
    "\n",
    "print(str_encoded)\n",
    "\n"
   ]
  },
  {
   "cell_type": "markdown",
   "id": "c88bf52c",
   "metadata": {},
   "source": [
    "## Задание 5: Табель успеваемости\n",
    "\n",
    "Пользователь в бесконечном цикле (пока не будет введена пустая строка) вводит строки вида: 'название предмета' 'фамилия ученика' 'оценка'. После окончания ввода программа выводит в консоль название предмета, далее список учеников и все их оценки в виде таблицы.\n",
    "\n",
    "<br>\n",
    "\n",
    "**Примеры:**\n",
    "\n",
    "<br>\n",
    "\n",
    "*Ввод:*\n",
    "```python\n",
    "Математика Иванов  5\n",
    "Математика Иванов  4\n",
    "Литература Иванов  3\n",
    "Математика Петров  5\n",
    "Литература Сидоров 3\n",
    "Литература Петров  5\n",
    "Литература Иванов  4\n",
    "Математика Сидоров 3\n",
    "Математика Петров  5\n",
    "```\n",
    "\n",
    "<br>\n",
    "\n",
    "*Результат:*\n",
    "```python\n",
    "Математика # вводим название предмета\n",
    "\n",
    "# выводим список учеников и их оценки\n",
    "Иванов  5 4\n",
    "Петров  5 5\n",
    "Сидоров 3\n",
    "```\n",
    "\n",
    "```python\n",
    "Литература # вводим название предмета\n",
    "\n",
    "# выводим список учеников и их оценки\n",
    "Иванов  3 4\n",
    "Сидоров 3\n",
    "Петров  5\n",
    "```"
   ]
  },
  {
   "cell_type": "code",
   "execution_count": null,
   "id": "196f6ff4",
   "metadata": {},
   "outputs": [
    {
     "name": "stdout",
     "output_type": "stream",
     "text": [
      "Математика\n",
      "\n",
      "Иванов\t5 4 \n",
      "Петров\t5 5 \n",
      "Сидоров\t3 \n",
      "\n",
      "Литература\n",
      "\n",
      "Иванов\t3 4 \n",
      "Сидоров\t3 \n",
      "Петров\t5 \n",
      "\n"
     ]
    }
   ],
   "source": [
    "# ВАШ КОД ЗДЕСЬ\n",
    "\n",
    "marks = {}\n",
    "\n",
    "while True:\n",
    "    input_str = input()\n",
    "    if not input_str:\n",
    "        break\n",
    "\n",
    "    data = input_str.split(\" \")\n",
    "\n",
    "    marks.setdefault(data[0], {})\n",
    "\n",
    "    subject = marks[data[0]]\n",
    "    subject.setdefault(data[1], [])\n",
    "\n",
    "    subject[data[1]].append(data[2])\n",
    "\n",
    "for subjectName in marks:\n",
    "    print(subjectName + \"\\n\")\n",
    "\n",
    "    for studentsNames in marks[subjectName]:\n",
    "        print(studentsNames + \"\\t\", end='')\n",
    "        for studentMark in marks[subjectName][studentsNames]:\n",
    "            print(studentMark + \" \", end='')\n",
    "        print(\"\")\n",
    "    print(\"\")"
   ]
  }
 ],
 "metadata": {
  "kernelspec": {
   "display_name": "Python 3",
   "language": "python",
   "name": "python3"
  },
  "language_info": {
   "codemirror_mode": {
    "name": "ipython",
    "version": 3
   },
   "file_extension": ".py",
   "mimetype": "text/x-python",
   "name": "python",
   "nbconvert_exporter": "python",
   "pygments_lexer": "ipython3",
   "version": "3.9.22"
  }
 },
 "nbformat": 4,
 "nbformat_minor": 5
}
