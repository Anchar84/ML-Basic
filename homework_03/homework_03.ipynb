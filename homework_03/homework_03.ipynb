{
 "cells": [
  {
   "cell_type": "markdown",
   "id": "e2450ffa",
   "metadata": {},
   "source": [
    "# Домашнее задание: Функции"
   ]
  },
  {
   "cell_type": "markdown",
   "id": "8d062500",
   "metadata": {},
   "source": [
    "## Задание 1: Конвертер регистров\n",
    "\n",
    "Написать функцию, которая будет переводить snake_case в PascalCase и наоборот. \n",
    "\n",
    "Функция должна сама определять - какой формат ей передали. Можно добавить ключевой аргумент, который будет принудительно возвращать один из форматов.\n",
    "\n",
    "<br>\n",
    "\n",
    "**Примеры:**\n",
    "* `otus_course     -> OtusCourse`\n",
    "* `PythonIsTheBest -> python_is_the_best`\n",
    "\n"
   ]
  },
  {
   "cell_type": "code",
   "execution_count": null,
   "id": "ec0075f5",
   "metadata": {},
   "outputs": [
    {
     "name": "stdout",
     "output_type": "stream",
     "text": [
      "Python_Is_The_Best\n"
     ]
    }
   ],
   "source": [
    "# ВАШ КОД ЗДЕСЬ\n",
    "\n",
    "def change_case(str_arg: str):\n",
    "    result_str = \"\"\n",
    "    idx = 0\n",
    "    while idx < len(str_arg):\n",
    "        ch = str_arg[idx]\n",
    "        if ch == \"_\":\n",
    "           idx += 1\n",
    "           if idx < len(str_arg):\n",
    "                result_str += str_arg[idx].upper()\n",
    "        elif ch.isupper():\n",
    "           if result_str:\n",
    "                result_str += \"_\"\n",
    "           result_str += str_arg[idx].lower()\n",
    "        else:\n",
    "            result_str += str_arg[idx]\n",
    "        idx += 1\n",
    "    return result_str\n",
    "\n",
    "print(change_case(input()))"
   ]
  },
  {
   "cell_type": "markdown",
   "id": "b8253fb9",
   "metadata": {},
   "source": [
    "## Задание 2: Проверка валидности даты\n",
    "\n",
    "Написать функцию проверяющую валидность введенной даты.\n",
    "\n",
    "<br>\n",
    "\n",
    "**Примеры:**\n",
    "* `29.02.2000 -> True`\n",
    "* `29.02.2001 -> False`\n",
    "* `31.04.1962 -> False`\n",
    "\n"
   ]
  },
  {
   "cell_type": "code",
   "execution_count": null,
   "id": "e7f4e9c8",
   "metadata": {},
   "outputs": [
    {
     "name": "stdout",
     "output_type": "stream",
     "text": [
      "29 2 2000 True 29\n",
      "True\n"
     ]
    }
   ],
   "source": [
    "# ВАШ КОД ЗДЕСЬ\n",
    "\n",
    "MAX_DAYS = [31, 28, 31, 30, 31, 30, 31, 31, 30, 31, 30, 31]\n",
    "\n",
    "def check_date(dt: str):\n",
    "    items = dt.split(\".\")\n",
    "    day = int(items[0])\n",
    "    month = int(items[1])\n",
    "    year = int(items[2])\n",
    "    is_leap = (year % 4 == 0 and year % 100 != 0) or (year % 400 == 0)\n",
    "\n",
    "    if month > 12:\n",
    "        return False\n",
    "    if month == 2 and day > MAX_DAYS[month - 1] + 1 * is_leap:\n",
    "        return False\n",
    "    if day > MAX_DAYS[month - 1]:\n",
    "        return False\n",
    "    return True\n",
    "\n",
    "print(check_date(input()))"
   ]
  },
  {
   "cell_type": "markdown",
   "id": "2d77053e",
   "metadata": {},
   "source": [
    "## Задание 3: Проверка на простое число\n",
    "\n",
    "Функция проверки на простое число. Простые числа – это такие числа, которые делятся на себя и на единицу.\n",
    "\n",
    "<br>\n",
    "\n",
    "**Примеры:**\n",
    "* `17 -> True`\n",
    "* `20 -> False`\n",
    "* `23 -> True`"
   ]
  },
  {
   "cell_type": "code",
   "execution_count": 20,
   "id": "c20728f6",
   "metadata": {},
   "outputs": [
    {
     "name": "stdout",
     "output_type": "stream",
     "text": [
      "True\n"
     ]
    }
   ],
   "source": [
    "# ВАШ КОД ЗДЕСЬ\n",
    "\n",
    "def is_simple(a):\n",
    "    i = 2\n",
    "    while i < abs(a):\n",
    "        if not a % i:\n",
    "            # print(a, i, a % i)\n",
    "            return False\n",
    "        i += 1\n",
    "    return True\n",
    "\n",
    "input_int = int(input())\n",
    "print(is_simple(input_int))\n"
   ]
  },
  {
   "cell_type": "markdown",
   "id": "29703efe",
   "metadata": {},
   "source": [
    "## Задание 4: Учет пользователей\n",
    "\n",
    "Пользователь в бесконечном цикле вводит данные пользователей: имя, затем фамилию, возраст и ID. Ввод продолжается до тех пор, пока не будет введено пустое поле. \n",
    "\n",
    "Пользователи заносятся в словарь, где ключ это ID пользователя, а остальные данные записываются в виде кортежа. \n",
    "\n",
    "**Программа должна проверять:**\n",
    "* имя и фамилия состоят только из символов и начинаются с большой буквы - если не с большой, то заменяет букву на большую;\n",
    "* возраст должен быть числом от 18 до 60;\n",
    "* ID - целое число, дополненное до 8 знаков незначащими нулями, ID должен быть уникальным.\n",
    "\n",
    "**Дополнительно:** написать функцию, которая будет выводить полученный словарь в виде таблицы."
   ]
  },
  {
   "cell_type": "code",
   "execution_count": null,
   "id": "54d1f971",
   "metadata": {},
   "outputs": [
    {
     "name": "stdout",
     "output_type": "stream",
     "text": [
      "|    ID    |   Имя    | Фамилия  | Возраст  |\n",
      "--------------------------------------------\n",
      "| 00000001 |   Имя    | Фамилия  |    20    |\n",
      "--------------------------------------------\n",
      "| 00000002 |   Имя    | Отчество |    34    |\n"
     ]
    }
   ],
   "source": [
    "# ВАШ КОД ЗДЕСЬ\n",
    "\n",
    "ids = set()\n",
    "\n",
    "def check_name_or_family(value: str):\n",
    "    if not value.isalpha():\n",
    "        return (False, \"\")\n",
    "    if value[0].islower():\n",
    "        return (True, value[0].upper() + value[1:])\n",
    "    return (True, value)\n",
    "\n",
    "def check_age(value: str):\n",
    "    age = int(value)\n",
    "    if age >= 18 and age <= 60:\n",
    "        return (True, value)\n",
    "    return (False, '')\n",
    "\n",
    "def check_id(value: str):\n",
    "    u_id = int(value)\n",
    "    if u_id in ids:\n",
    "        return (False, '')\n",
    "    ids.add(u_id)\n",
    "    return (True, f\"{u_id:08d}\")\n",
    "\n",
    "validators = [check_name_or_family, check_name_or_family, check_age, check_id]\n",
    "\n",
    "user_map = {}\n",
    "\n",
    "def print_table():\n",
    "    print(f\"|{'ID':^10}|{'Имя':^10}|{'Фамилия':^10}|{'Возраст':^10}|\")\n",
    "    print(\"---------------------------------------------\")\n",
    "    for u_id in user_map:\n",
    "        name, family, age = user_map[u_id]\n",
    "        print(f\"|{u_id:^10}|{name:^10}|{family:^10}|{age:^10}|\")\n",
    "\n",
    "data = ['', '', '', '']\n",
    "is_data_correct = True\n",
    "counter = 0\n",
    "\n",
    "while True:\n",
    "    input_str = input()\n",
    "    if not input_str:\n",
    "        break\n",
    "    index = counter % 4\n",
    "    check_result, data_value = validators[index](input_str)\n",
    "    data[index] = data_value\n",
    "    is_data_correct = is_data_correct and check_result\n",
    "    counter += 1\n",
    "    if index == 3:\n",
    "        if is_data_correct:\n",
    "            user_map[data[3]] = (data[0], data[1], data[2])\n",
    "        data = ['', '', '', '']\n",
    "        is_data_correct = True\n",
    "        \n",
    "print_table()\n"
   ]
  }
 ],
 "metadata": {
  "kernelspec": {
   "display_name": "Python 3",
   "language": "python",
   "name": "python3"
  },
  "language_info": {
   "codemirror_mode": {
    "name": "ipython",
    "version": 3
   },
   "file_extension": ".py",
   "mimetype": "text/x-python",
   "name": "python",
   "nbconvert_exporter": "python",
   "pygments_lexer": "ipython3",
   "version": "3.9.22"
  }
 },
 "nbformat": 4,
 "nbformat_minor": 5
}
